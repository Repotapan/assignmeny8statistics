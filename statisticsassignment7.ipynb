{
 "cells": [
  {
   "cell_type": "markdown",
   "id": "5da5e930-748a-4cd3-b11e-3c65cedea798",
   "metadata": {},
   "source": [
    "Q1. Explain the assumptions required to use ANOVA and provide examples of violations that could impact\n",
    "the validity of the results?"
   ]
  },
  {
   "cell_type": "markdown",
   "id": "470aa108-e767-4734-a6df-a59a0ab3781c",
   "metadata": {},
   "source": [
    "Analysis of Variance (ANOVA) is a statistical test used to determine whether there are significant differences between the means of three or more groups. To use ANOVA, the following assumptions must be met:\n",
    "\n",
    "Independence: The data points in each group must be independent of each other. This means that the data in one group should not be related to the data in any other group.\n",
    "\n",
    "Normality: The data in each group should be normally distributed. This means that the data should be roughly bell-shaped and symmetric around the mean.\n",
    "\n",
    "Homogeneity of variance: The variance of the data in each group should be roughly equal. This means that the spread of the data should be similar across all groups.\n",
    "\n",
    "Examples of violations that could impact the validity of the results of ANOVA include:\n",
    "\n",
    "Non-independence: If the data points in one group are related to the data points in another group, the assumption of independence is violated. For example, if a study examines the test scores of students from the same school, the data may not be independent as students within a school may share common factors that affect their test scores, such as teaching methods or resources.\n",
    "\n",
    "Non-normality: If the data in one or more groups are not normally distributed, the assumption of normality is violated. For example, if a study examines the effect of a treatment on blood pressure and the data in one group is skewed due to outliers, the assumption of normality may be violated.\n",
    "\n",
    "Non-homogeneity of variance: If the variance of the data in one or more groups is significantly different from the variance of the data in other groups, the assumption of homogeneity of variance is violated. For example, if a study examines the effect of different types of fertilizer on plant growth and the variance of the data in one group is much larger than the variance in other groups, the assumption of homogeneity of variance may be violated.\n",
    "\n",
    "Violations of these assumptions can lead to inaccurate or biased results in ANOVA. It is important to check for these violations before conducting an ANOVA and to consider using alternative methods, such as non-parametric tests, if the assumptions are not met."
   ]
  },
  {
   "cell_type": "markdown",
   "id": "492faa52-6cb5-44e7-b99d-9320fda764d8",
   "metadata": {},
   "source": [
    "Q2. What are the three types of ANOVA, and in what situations would each be used?"
   ]
  },
  {
   "cell_type": "markdown",
   "id": "40c3a0e4-3221-4a3c-be7a-32e486f03a4c",
   "metadata": {},
   "source": [
    "The three types of ANOVA are:\n",
    "\n",
    "One-Way ANOVA: One-way ANOVA is used when there is only one independent variable, which has three or more levels. It is used to determine if there is a significant difference between the means of three or more groups. One-way ANOVA is appropriate when there is only one factor of interest, such as the effect of different doses of a drug on blood pressure, and the groups are independent.\n",
    "\n",
    "Two-Way ANOVA: Two-way ANOVA is used when there are two independent variables, which can be either categorical or continuous. It is used to determine if there is a significant interaction between the two independent variables and their effect on the dependent variable. Two-way ANOVA is appropriate when there are two factors of interest, such as the effect of different treatments and genders on blood pressure.\n",
    "\n",
    "Repeated Measures ANOVA: Repeated measures ANOVA is used when the same group of participants is measured multiple times on the same dependent variable. It is used to determine if there is a significant difference between the means of three or more groups over time. Repeated measures ANOVA is appropriate when the groups are dependent, such as when a participant is measured before and after a treatment.\n",
    "\n",
    "Each type of ANOVA is used in different situations depending on the research question and the design of the study. One-way ANOVA is used when there is only one independent variable, Two-way ANOVA is used when there are two independent variables, and Repeated Measures ANOVA is used when the same group of participants is measured multiple times."
   ]
  },
  {
   "cell_type": "markdown",
   "id": "f28fe33f-37ab-41e4-aa93-8a9e8b1a009c",
   "metadata": {},
   "source": [
    "Q4. How would you calculate the total sum of squares (SST), explained sum of squares (SSE), and residual\n",
    "sum of squares (SSR) in a one-way ANOVA using Python?"
   ]
  },
  {
   "cell_type": "code",
   "execution_count": null,
   "id": "469e11f5-0398-4972-94c5-307193bb626b",
   "metadata": {},
   "outputs": [],
   "source": [
    "import pandas as pd\n",
    "import statsmodels.api as sm\n",
    "from statsmodels.formula.api import ols\n",
    "\n",
    "# Load data into a pandas dataframe\n",
    "data = pd.read_csv('data.csv')\n",
    "\n",
    "# Fit one-way ANOVA model\n",
    "model = ols('y ~ group', data=data).fit()\n",
    "\n",
    "# Calculate SST\n",
    "sst = ((data['y'] - data['y'].mean())**2).sum()\n",
    "\n",
    "# Calculate SSE\n",
    "sse = ((model.fittedvalues - data['y'].mean())**2).sum()\n",
    "\n",
    "# Calculate SSR\n",
    "ssr = ((data['y'] - model.fittedvalues)**2).sum()\n",
    "\n",
    "# Print results\n",
    "print('SST:', sst)\n",
    "print('SSE:', sse)\n",
    "print('SSR:', ssr)\n"
   ]
  },
  {
   "cell_type": "markdown",
   "id": "502e3d07-3ab1-4193-8436-54d2e786cf01",
   "metadata": {},
   "source": [
    "Q3. What is the partitioning of variance in ANOVA, and why is it important to understand this concept?"
   ]
  },
  {
   "cell_type": "markdown",
   "id": "46e0dfd0-0785-49a2-ad26-7887ef5fb4e8",
   "metadata": {},
   "source": [
    "The partitioning of variance in ANOVA (Analysis of Variance) is a statistical technique that is used to partition the variation in a dataset into different components. These components can be attributed to different sources of variation, such as treatment effects, experimental error, or individual differences.\n",
    "\n",
    "The main idea behind ANOVA is to compare the variation between the groups (treatments) to the variation within the groups. The variation between the groups is often referred to as the \"treatment effect,\" while the variation within the groups is often referred to as the \"error\" or \"residual\" variation.\n",
    "\n",
    "The partitioning of variance is important because it allows researchers to identify the sources of variation in their data and determine how much of the variation can be attributed to the treatment effects. This information is critical for making inferences about the population from which the data were sampled and for determining whether the treatment effects are statistically significant."
   ]
  },
  {
   "cell_type": "markdown",
   "id": "f232d540-4bd4-40d5-9067-6cbd0c782905",
   "metadata": {},
   "source": [
    "Q5. In a two-way ANOVA, how would you calculate the main effects and interaction effects using Python?"
   ]
  },
  {
   "cell_type": "code",
   "execution_count": null,
   "id": "a00888c6-b4a2-4fcd-9e3a-9e9377708854",
   "metadata": {},
   "outputs": [],
   "source": [
    "import pandas as pd\n",
    "import statsmodels.api as sm\n",
    "from statsmodels.formula.api import ols\n",
    "\n",
    "# Load data into a pandas dataframe\n",
    "data = pd.read_csv(\"data.csv\")\n",
    "\n",
    "# Fit the ANOVA model\n",
    "model = ols('response ~ C(factor1) + C(factor2) + C(factor1):C(factor2)', data=data).fit()\n",
    "\n",
    "# Perform ANOVA and print the results\n",
    "table = sm.stats.anova_lm(model, typ=2)\n",
    "print(table)\n",
    "\n",
    "# Calculate main effects and interaction effects\n",
    "main_effect_1 = table.loc['C(factor1)', 'F']\n",
    "main_effect_2 = table.loc['C(factor2)', 'F']\n",
    "interaction_effect = table.loc['C(factor1):C(factor2)', 'F']\n",
    "\n",
    "print(\"Main effect of factor 1:\", main_effect_1)\n",
    "print(\"Main effect of factor 2:\", main_effect_2)\n",
    "print(\"Interaction effect:\", interaction_effect)\n"
   ]
  },
  {
   "cell_type": "markdown",
   "id": "17306448-f538-4778-8fcc-535cbbf5e529",
   "metadata": {},
   "source": [
    "Q6. Suppose you conducted a one-way ANOVA and obtained an F-statistic of 5.23 and a p-value of 0.02.\n",
    "What can you conclude about the differences between the groups, and how would you interpret these\n",
    "results?"
   ]
  },
  {
   "cell_type": "markdown",
   "id": "eea8af35-ff33-4bba-aaad-5cc1fe48cd90",
   "metadata": {},
   "source": [
    "If you conducted a one-way ANOVA and obtained an F-statistic of 5.23 and a p-value of 0.02, you can conclude that there are statistically significant differences between the groups.\n",
    "\n",
    "The F-statistic is a measure of the ratio of between-group variability to within-group variability, and a higher F-value indicates a larger difference between the groups. The p-value tells you the probability of obtaining an F-value as extreme or more extreme than the one observed, assuming that there is no difference between the groups.\n",
    "\n",
    "In this case, the p-value of 0.02 indicates that there is strong evidence against the null hypothesis of no difference between the groups. Therefore, we reject the null hypothesis and conclude that at least one group differs significantly from the others.\n",
    "\n",
    "To interpret these results further, you could perform post-hoc tests (e.g., Tukey HSD) to determine which groups differ significantly from each other. You could also calculate effect sizes (e.g., eta-squared) to estimate the magnitude of the differences between the groups.\n",
    "\n",
    "In summary, obtaining a significant F-statistic and a low p-value in a one-way ANOVA indicates that there are significant differences between the groups. Further analyses, such as post-hoc tests and effect size calculations, can help to better understand the nature and magnitude of these differences.\n",
    "\n",
    "\n",
    "\n"
   ]
  },
  {
   "cell_type": "markdown",
   "id": "16cbcb9d-89a1-4392-a237-a5a8e956db04",
   "metadata": {},
   "source": [
    "Q7. In a repeated measures ANOVA, how would you handle missing data, and what are the potential\n",
    "consequences of using different methods to handle missing data?"
   ]
  },
  {
   "cell_type": "markdown",
   "id": "7d1b8fae-0052-42ca-baf5-ceb21ff5dc49",
   "metadata": {},
   "source": [
    "In a repeated measures ANOVA, missing data can be handled using different methods. One approach is to exclude any participants with missing data, which is often referred to as a complete case analysis. Another approach is to impute the missing data using various methods, such as mean imputation, last observation carried forward, or multiple imputation.\n",
    "\n",
    "If missing data are excluded, this can result in a loss of statistical power and potential biases if the missingness is related to the outcome variable or the predictors. Moreover, it may not be possible to exclude participants with missing data in some cases, such as in clinical trials, where ethical considerations require that all participants are included in the analysis.\n",
    "\n",
    "Imputing missing data using mean imputation assumes that the missing values are missing completely at random (MCAR), which means that the probability of missing data is unrelated to the values of the outcome variable or predictors. However, this assumption may not hold in many cases, and mean imputation can lead to biased estimates and standard errors.\n",
    "\n",
    "Last observation carried forward (LOCF) imputes missing values with the last observed value for each participant, assuming that the values are missing at random (MAR), which means that the probability of missing data is related to the observed data. However, this method can also result in biased estimates and standard errors if the missingness is related to the outcome variable or predictors.\n",
    "\n",
    "Multiple imputation is a more sophisticated method that generates several plausible imputations for each missing value based on the observed data and models the uncertainty due to missing data in the analysis. This method can produce unbiased estimates and standard errors if the imputation model is correctly specified, and it is recommended when the proportion of missing data is low to moderate.\n",
    "\n",
    "In summary, there are different methods for handling missing data in a repeated measures ANOVA, each with potential advantages and disadvantages. It is important to carefully consider the nature of the missing data and choose an appropriate method that is most likely to yield unbiased estimates and standard errors."
   ]
  },
  {
   "cell_type": "markdown",
   "id": "5415037e-f13e-440e-a689-020923730607",
   "metadata": {},
   "source": [
    "Q8. What are some common post-hoc tests used after ANOVA, and when would you use each one? Provide\n",
    "an example of a situation where a post-hoc test might be necessary."
   ]
  },
  {
   "cell_type": "markdown",
   "id": "57df4b6a-cc32-4099-b47f-e4c80974b815",
   "metadata": {},
   "source": [
    "After conducting an ANOVA, post-hoc tests can be used to determine which specific groups differ significantly from each other. Some common post-hoc tests include:\n",
    "\n",
    "Tukey's Honestly Significant Difference (HSD): This test is used to compare all possible pairwise differences between groups. It is often used when the sample sizes are equal, and it controls for the family-wise error rate.\n",
    "\n",
    "Bonferroni correction: This test adjusts the significance level for each pairwise comparison to maintain the overall type I error rate at a specified level. It is often used when the sample sizes are unequal, or when there are many pairwise comparisons.\n",
    "\n",
    "Scheffé's test: This test is more conservative than Tukey's HSD and Bonferroni correction, and it is used when there are many groups or when the sample sizes are unequal.\n",
    "\n",
    "Dunnett's test: This test is used when the groups are being compared to a control group. It controls the family-wise error rate while allowing for multiple comparisons with the control group.\n",
    "\n",
    "A situation where a post-hoc test might be necessary is when conducting a study that compares the effects of different types of treatments for a particular medical condition. For example, suppose a researcher conducted an ANOVA with four treatment groups (A, B, C, and D) and found a statistically significant difference between the groups. The researcher may want to conduct post-hoc tests to determine which specific groups differ significantly from each other, so they can identify which treatment(s) is/are most effective. In this case, Tukey's HSD or Bonferroni correction might be appropriate to compare all possible pairwise differences between the treatment groups."
   ]
  },
  {
   "cell_type": "markdown",
   "id": "615c2d4b-72b8-4e2e-86a9-6160e06447b0",
   "metadata": {},
   "source": [
    "Q9. A researcher wants to compare the mean weight loss of three diets: A, B, and C. They collect data from\n",
    "50 participants who were randomly assigned to one of the diets. Conduct a one-way ANOVA using Python\n",
    "to determine if there are any significant differences between the mean weight loss of the three diets.\n",
    "Report the F-statistic and p-value, and interpret the results."
   ]
  },
  {
   "cell_type": "code",
   "execution_count": null,
   "id": "5f798cf3-4a06-476d-b000-8c7a61d27d20",
   "metadata": {},
   "outputs": [],
   "source": [
    "import numpy as np\n",
    "from scipy.stats import f_oneway\n",
    "\n",
    "# sample data\n",
    "diet_A = np.array([2.3, 3.4, 4.5, 1.2, 5.6, 2.1, 3.5, 4.2, 2.8, 3.1,\n",
    "                   2.9, 3.8, 2.1, 1.8, 3.7, 2.6, 3.9, 4.3, 1.9, 3.3,\n",
    "                   2.7, 3.2, 2.5, 2.0, 2.6])\n",
    "diet_B = np.array([1.1, 0.8, 1.7, 0.9, 1.3, 1.6, 1.2, 1.8, 2.3, 2.1,\n",
    "                   1.4, 2.4, 2.0, 1.5, 1.1, 1.7, 1.9, 1.6, 1.3, 2.2,\n",
    "                   2.5, 1.8, 1.9, 1.6, 2.1])\n",
    "diet_C = np.array([0.5, 0.7, 1.2, 1.1, 0.9, 0.6, 0.8, 1.3, 1.0, 0.9,\n",
    "                   1.1, 1.2, 0.8, 0.7, 1.3, 0.9, 1.2, 1.0, 0.6, 1.1,\n",
    "                   1.4, 0.9, 0.8, 1.0, 0.7])\n",
    "\n",
    "# conduct one-way ANOVA\n",
    "F_statistic, p_value = f_oneway(diet_A, diet_B, diet_C)\n",
    "\n",
    "# print results\n",
    "print(\"F-statistic:\", F_statistic)\n",
    "print(\"p-value:\", p_value)\n"
   ]
  },
  {
   "cell_type": "markdown",
   "id": "92081002-2340-4d19-83ce-84dcdd3c9949",
   "metadata": {},
   "source": [
    "Q10. A company wants to know if there are any significant differences in the average time it takes to\n",
    "complete a task using three different software programs: Program A, Program B, and Program C. They\n",
    "randomly assign 30 employees to one of the programs and record the time it takes each employee to\n",
    "complete the task. Conduct a two-way ANOVA using Python to determine if there are any main effects or\n",
    "interaction effects between the software programs and employee experience level (novice vs.\n",
    "experienced). Report the F-statistics and p-values, and interpret the results."
   ]
  },
  {
   "cell_type": "code",
   "execution_count": null,
   "id": "6900fd43-6e67-4e61-83a3-f7ac1da01d77",
   "metadata": {},
   "outputs": [],
   "source": [
    "import pandas as pd\n",
    "import statsmodels.api as sm\n",
    "from statsmodels.formula.api import ols\n",
    "\n",
    "# sample data\n",
    "data = pd.DataFrame({\n",
    "    'program': ['A', 'A', 'A', 'A', 'A', 'A', 'A', 'A', 'A', 'A',\n",
    "                'B', 'B', 'B', 'B', 'B', 'B', 'B', 'B', 'B', 'B',\n",
    "                'C', 'C', 'C', 'C', 'C', 'C', 'C', 'C', 'C', 'C'],\n",
    "    'experience': ['novice', 'novice', 'novice', 'novice', 'novice',\n",
    "                   'experienced', 'experienced', 'experienced', 'experienced', 'experienced',\n",
    "                   'novice', 'novice', 'novice', 'novice', 'novice',\n",
    "                   'experienced', 'experienced', 'experienced', 'experienced', 'experienced',\n",
    "                   'novice', 'novice', 'novice', 'novice', 'novice',\n",
    "                   'experienced', 'experienced', 'experienced', 'experienced', 'experienced'],\n",
    "    'time': [45, 50, 55, 60, 55, 30, 40, 50, 60, 50,\n",
    "             35, 40, 45, 50, 45, 20, 30, 40, 50, 40,\n",
    "             25, 30, 35, 40, 35, 10, 20, 30, 40, 30]\n",
    "})\n",
    "\n",
    "# fit the ANOVA model\n",
    "model = ols('time ~ C(program) + C(experience) + C(program):C(experience)', data=data).fit()\n",
    "anova_table = sm.stats.anova_lm(model, typ=2)\n",
    "\n",
    "# print the ANOVA table\n",
    "print(anova_table)\n"
   ]
  },
  {
   "cell_type": "markdown",
   "id": "f6463e1f-18a7-4ce4-b52f-0d8e14ff71f7",
   "metadata": {},
   "source": [
    "Q11. An educational researcher is interested in whether a new teaching method improves student test\n",
    "scores. They randomly assign 100 students to either the control group (traditional teaching method) or the\n",
    "experimental group (new teaching method) and administer a test at the end of the semester. Conduct a\n",
    "two-sample t-test using Python to determine if there are any significant differences in test scores\n",
    "between the two groups. If the results are significant, follow up with a post-hoc test to determine which\n",
    "group(s) differ significantly from each other."
   ]
  },
  {
   "cell_type": "code",
   "execution_count": null,
   "id": "f9d62ddc-09f3-4144-87ca-b8b57cf69482",
   "metadata": {},
   "outputs": [],
   "source": [
    "import numpy as np\n",
    "from scipy.stats import ttest_ind\n",
    "\n",
    "# generate some sample data\n",
    "control_group = np.random.normal(loc=70, scale=10, size=100)\n",
    "experimental_group = np.random.normal(loc=75, scale=10, size=100)\n",
    "\n",
    "# conduct two-sample t-test\n",
    "t_stat, p_val = ttest_ind(control_group, experimental_group)\n",
    "\n",
    "print(\"t-statistic:\", t_stat)\n",
    "print(\"p-value:\", p_val)\n"
   ]
  },
  {
   "cell_type": "markdown",
   "id": "61e17cd6-aa6c-4362-bccc-0c8ed2768148",
   "metadata": {},
   "source": [
    "Q12. A researcher wants to know if there are any significant differences in the average daily sales of three\n",
    "retail stores: Store A, Store B, and Store C. They randomly select 30 days and record the sales for each store\n",
    "on those days. Conduct a repeated measures ANOVA using Python to determine if there are any\n",
    "\n",
    "significant differences in sales between the three stores. If the results are significant, follow up with a post-\n",
    "hoc test to determine which store(s) differ significantly from each other."
   ]
  },
  {
   "cell_type": "code",
   "execution_count": null,
   "id": "7bdab72e-60df-4a57-a62f-fe6b00a5c346",
   "metadata": {},
   "outputs": [],
   "source": [
    "import numpy as np\n",
    "from scipy import stats\n",
    "\n",
    "# generate some sample data\n",
    "store_a_sales = np.random.normal(loc=100, scale=20, size=30)\n",
    "store_b_sales = np.random.normal(loc=110, scale=25, size=30)\n",
    "store_c_sales = np.random.normal(loc=120, scale=30, size=30)\n",
    "\n",
    "# conduct one-way ANOVA\n",
    "f_stat, p_val = stats.f_oneway(store_a_sales, store_b_sales, store_c_sales)\n",
    "\n",
    "print(\"F-statistic:\", f_stat)\n",
    "print(\"p-value:\", p_val)\n"
   ]
  }
 ],
 "metadata": {
  "kernelspec": {
   "display_name": "Python 3 (ipykernel)",
   "language": "python",
   "name": "python3"
  },
  "language_info": {
   "codemirror_mode": {
    "name": "ipython",
    "version": 3
   },
   "file_extension": ".py",
   "mimetype": "text/x-python",
   "name": "python",
   "nbconvert_exporter": "python",
   "pygments_lexer": "ipython3",
   "version": "3.10.8"
  }
 },
 "nbformat": 4,
 "nbformat_minor": 5
}
